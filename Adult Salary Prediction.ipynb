{
 "cells": [
  {
   "cell_type": "markdown",
   "id": "33e9615e",
   "metadata": {},
   "source": [
    "<h1 style = \"text-align:center\">0. Introdução</h1>\n",
    "\n",
    "<img style = \"height: 400px\" src=\"https://besthotelshome.com/wp-content/uploads/2020/04/Large-group-of-people-seen-from-above-gathered-together-in-the-shape-of-United-States-of-America-map.jpg\">\n",
    "\n",
    "Neste projeto, vamos fazer uma análise dos dados coletados a partir do censo de 1994 dos EUA.\n",
    "<br>\n",
    "\n",
    "Além disso, o objetivo é construir um modelo de Machine Learning que consiga prever, a partir das características de cada indivíduo, se essa pessoa faz mais de $ 50K por ano.\n",
    "<br>\n",
    "\n",
    "A partir da análise exploratória dos dados, queremos responder as seguintes perguntas:\n",
    "\n",
    "<ol>\n",
    "    <li> Há um salto muito grande no salário de bacharéis, mestres e doutores?\n",
    "    <li> O valor da hora trabalhada aumenta com o aumento da escolaridade? \n",
    "    <li> Solteiros ganham mais que pessoas em algum tipo de relacionamento?\n",
    "    <li> Com o aumento do nível de escolaridade, a proporção de homens e mulheres se mantém? E a proporção de brancos e negros?\n",
    "</ol>\n"
   ]
  },
  {
   "cell_type": "markdown",
   "id": "ebb7488b",
   "metadata": {},
   "source": [
    "<h1 style=\"text-align:center\">1.0 - Importando Bibliotecas, Dataset & Funções</h1>"
   ]
  },
  {
   "cell_type": "markdown",
   "id": "1400039e",
   "metadata": {},
   "source": [
    "<h2 style=\"text-align:center\">1.1 - Bibliotecas</h2>"
   ]
  },
  {
   "cell_type": "code",
   "execution_count": 181,
   "id": "3af19d35",
   "metadata": {},
   "outputs": [],
   "source": [
    "# Importando bibliotecas e framework\n",
    "import pandas as pd\n",
    "import numpy as np\n",
    "import matplotlib.pyplot as plt\n",
    "import seaborn as sns\n",
    "import warnings\n",
    "%matplotlib inline\n",
    "\n",
    "import plotly.express as px\n",
    "import plotly.graph_objects as go\n",
    "from plotly.subplots import make_subplots\n",
    "\n",
    "from sklearn.model_selection import train_test_split, StratifiedKFold\n",
    "from sklearn.preprocessing import StandardScaler\n",
    "from sklearn.metrics import accuracy_score, roc_auc_score, precision_score, recall_score, f1_score\n",
    "from sklearn.ensemble import RandomForestClassifier, GradientBoostingClassifier\n",
    "from sklearn.linear_model import LogisticRegression\n",
    "from sklearn.svm import SVC\n",
    "from xgboost import XGBClassifier\n",
    "\n",
    "sns.set_style(\"darkgrid\")\n",
    "warnings.filterwarnings('ignore')"
   ]
  },
  {
   "cell_type": "markdown",
   "id": "086f651f",
   "metadata": {},
   "source": [
    "<h2 style=\"text-align:center\">1.2 - Funções</h2>"
   ]
  },
  {
   "cell_type": "code",
   "execution_count": 53,
   "id": "c002d015",
   "metadata": {},
   "outputs": [],
   "source": [
    "# Função para análise estatística univariada\n",
    "def show_stat(var: str) -> pd.DataFrame:\n",
    "\n",
    "    var_min, var_max = min(adults[var]), max(adults[var])\n",
    "    var_std, var_mean, var_median = np.std(adults[var]), np.mean(adults[var]), np.median(adults[var])\n",
    "\n",
    "    var_df = pd.DataFrame({\n",
    "        \"Min\": [var_min],\n",
    "        \"Max\": [var_max],\n",
    "        \"Desvio Padrão\": [var_std],\n",
    "        \"Média\": [var_mean],\n",
    "        \"Mediana\": [var_median]\n",
    "    }, index = [var]).T\n",
    "\n",
    "    return var_df"
   ]
  },
  {
   "cell_type": "code",
   "execution_count": 54,
   "id": "15d2de19",
   "metadata": {},
   "outputs": [],
   "source": [
    "# Função para medir o desempenho do modelo\n",
    "def metricas(y_true, y_pred):\n",
    "    acc = accuracy_score(y_true, y_pred)\n",
    "    ps = precision_score(y_true, y_pred)\n",
    "    rs = recall_score(y_true, y_pred)\n",
    "    f1s = f1_score(y_true, y_pred)\n",
    "    rocs = roc_auc_score(y_true, y_pred)\n",
    "    \n",
    "    return [acc, ps, rs, f1s, rocs]"
   ]
  },
  {
   "cell_type": "code",
   "execution_count": 164,
   "id": "0e0fcbd6",
   "metadata": {},
   "outputs": [],
   "source": [
    "# Função para validação cruzada\n",
    "def validacao_cruzada(X_train, y_train, model):\n",
    "    # Lista com todas as métricas\n",
    "    metricas_full = list()\n",
    "\n",
    "    # Construindo a validação cruzada\n",
    "    for ind, (index_train, index_test) in enumerate(folds.split(X_train, y_train)):\n",
    "        print(f\"-=-=-= Fold {ind+1} -=-=-=\")\n",
    "        print(\"-=-=-=-=-=-=-=-=-=-=-=\\n\")\n",
    "        X_train_intern, y_train_intern = X_train.iloc[index_train, :], y_train.iloc[index_train]\n",
    "        X_train_valid, y_train_valid = X_train.iloc[index_test, :], y_train.iloc[index_test]\n",
    "\n",
    "        X_train_intern, X_train_valid = preprocess(X_train = X_train_intern, X_test = X_train_valid)\n",
    "\n",
    "        model.fit(X_train_intern, y_train_intern)\n",
    "\n",
    "        y_pred = model.predict(X_train_valid)\n",
    "\n",
    "        lista_metricas = metricas(y_train_valid, y_pred)\n",
    "        print(f\"Acurácia: {lista_metricas[0]}\\nF1-Score: {lista_metricas[-2]}\\n\")\n",
    "        metricas_full.append(lista_metricas)\n",
    "        \n",
    "    metricas_full_np = np.array(metricas_full)\n",
    "    \n",
    "    metricas_df = pd.DataFrame({\n",
    "        \"Acurácia\": metricas_full_np[:, 0],\n",
    "        \"Precisão\": metricas_full_np[:, 1],\n",
    "        \"Revocação\": metricas_full_np[:, 2],\n",
    "        \"F1-Score\": metricas_full_np[:, 3],\n",
    "        \"ROC AUC\": metricas_full_np[:, 4]\n",
    "    },\n",
    "        index = [1, 2, 3, 4, 5])\n",
    "    \n",
    "    acuracia = metricas_df[\"Acurácia\"].mean()\n",
    "    precisao = metricas_df[\"Precisão\"].mean()\n",
    "    revocacao = metricas_df[\"Revocação\"].mean()\n",
    "    f1score = metricas_df[\"F1-Score\"].mean()\n",
    "    rocaucscore = metricas_df[\"ROC AUC\"].mean()\n",
    "    \n",
    "    print(\"-=-=-=-=-=-=-=-=-=\")\n",
    "    print(\"Resultado Médio Final\")\n",
    "    print(f\"Acurácia: {acuracia}\")\n",
    "    print(f\"Precisão: {precisao}\")\n",
    "    print(f\"Revocação: {revocacao}\")\n",
    "    print(f\"F1-Score: {f1score}\")\n",
    "    print(f\"ROC AUC: {rocaucscore}\")"
   ]
  },
  {
   "cell_type": "code",
   "execution_count": 133,
   "id": "62706817",
   "metadata": {},
   "outputs": [],
   "source": [
    "# Função para pré-processamento de dados\n",
    "def preprocess(X_train, X_test):\n",
    "     \n",
    "    # Colunas para excluir\n",
    "    cols_excluir = [\"final_weight\", \"education\", \"native_country\"]\n",
    "    X_train.drop(columns = cols_excluir, axis = 1, inplace = True)\n",
    "    X_test.drop(columns = cols_excluir, axis = 1, inplace = True)\n",
    "    \n",
    "    # Analisando a cardinalidade de cada variável\n",
    "    cat_var = X_train.select_dtypes(include = ['object']).columns\n",
    "\n",
    "    # Para a variável 'sex', vamos utilizar o map\n",
    "    X_train['sex'] = X_train['sex'].map({\" Male\": 1, \" Female\": 0})\n",
    "    X_test['sex'] = X_test['sex'].map({\" Male\": 1, \" Female\": 0})\n",
    "    \n",
    "    # Para o restante, vamos, primeiramente, codificar como \"rare\" todos os valores com menos de 5% de aparições\n",
    "    cat_var = list(set(cat_var) - set([\"sex\"]))\n",
    "\n",
    "    for var in cat_var:\n",
    "        rares1 = X_train[var].value_counts()[X_train[var].value_counts()/X_train[var].value_counts().sum() < 0.05].index.to_list()\n",
    "        X_train[var] = X_train[var].apply(lambda x: x if x not in rares1 else \" rare\")\n",
    "        \n",
    "        rares2 = X_test[var].value_counts()[X_test[var].value_counts()/X_test[var].value_counts().sum() < 0.05].index.to_list()\n",
    "        X_test[var] = X_test[var].apply(lambda x: x if x not in rares2 else \" rare\")\n",
    "        \n",
    "    # Agora, vamos criar dummies\n",
    "    X_train = pd.get_dummies(data = X_train, columns = list(set(cat_var) - set([\"sex\"])), drop_first = True)\n",
    "    X_test = pd.get_dummies(data = X_test, columns = list(set(cat_var) - set([\"sex\"])), drop_first = True)\n",
    "        \n",
    "    # Vamos criar uma nova feature chamada 'capital_balance', que será a diferença entre 'capital_gain' e 'capital_loss'\n",
    "    X_train['capital_balance'] = X_train['capital_gain'] - X_train['capital_loss']\n",
    "    X_test['capital_balance'] = X_test['capital_gain'] - X_test['capital_loss']\n",
    "    \n",
    "    # Com isso, vamos manter apenas a feature 'capital_balance'\n",
    "    X_train.drop(columns = [\"capital_gain\", \"capital_loss\"], axis = 1, inplace = True)\n",
    "    X_test.drop(columns = [\"capital_gain\", \"capital_loss\"], axis = 1, inplace = True)\n",
    "    \n",
    "    # Excluindo colunas que pertencem ao conjunto de treino e não pertencem ao conjunto de teste\n",
    "    X_test.drop(columns = [col for col in X_test.columns if col not in X_train.columns], axis = 1, inplace = True)\n",
    "    X_train.drop(columns = [col for col in X_train.columns if col not in X_test.columns], axis = 1, inplace = True)\n",
    "    \n",
    "    # Escalonando com o StandardScaler\n",
    "    scaler = StandardScaler()\n",
    "    \n",
    "    X_train = scaler.fit_transform(X_train)\n",
    "    X_test = scaler.transform(X_test)\n",
    "\n",
    "    return X_train, X_test"
   ]
  },
  {
   "cell_type": "markdown",
   "id": "a3f9bf2a",
   "metadata": {},
   "source": [
    "<h2 style=\"text-align:center\">1.3 - Dataset</h2>"
   ]
  },
  {
   "cell_type": "code",
   "execution_count": 56,
   "id": "a955f48e",
   "metadata": {},
   "outputs": [],
   "source": [
    "# Importando o dataset\n",
    "adults = pd.read_csv(r\"https://archive.ics.uci.edu/ml/machine-learning-databases/adult/adult.data\", encoding = 'cp1252', low_memory = False, header=None)"
   ]
  },
  {
   "cell_type": "code",
   "execution_count": 57,
   "id": "ed5d25cf",
   "metadata": {},
   "outputs": [],
   "source": [
    "# Renomeando as colunas\n",
    "adults.columns = [\"age\", \"workclass\", \"final_weight\", \"education\",\n",
    "                  \"education_num\", \"marital_status\", \"occupation\",\n",
    "                  \"relationship\", \"race\", \"sex\", \"capital_gain\",\n",
    "                  \"capital_loss\", \"hours_per_week\", \"native_country\",\n",
    "                  \"target\"]"
   ]
  },
  {
   "cell_type": "code",
   "execution_count": 58,
   "id": "5e5a4191",
   "metadata": {},
   "outputs": [],
   "source": [
    "# Mudando o formato da variável alvo (target)\n",
    "adults.target = np.where(adults.target == \" <=50K\", 0, 1)"
   ]
  },
  {
   "cell_type": "code",
   "execution_count": 59,
   "id": "6c49f122",
   "metadata": {},
   "outputs": [
    {
     "data": {
      "text/html": [
       "<div>\n",
       "<style scoped>\n",
       "    .dataframe tbody tr th:only-of-type {\n",
       "        vertical-align: middle;\n",
       "    }\n",
       "\n",
       "    .dataframe tbody tr th {\n",
       "        vertical-align: top;\n",
       "    }\n",
       "\n",
       "    .dataframe thead th {\n",
       "        text-align: right;\n",
       "    }\n",
       "</style>\n",
       "<table border=\"1\" class=\"dataframe\">\n",
       "  <thead>\n",
       "    <tr style=\"text-align: right;\">\n",
       "      <th></th>\n",
       "      <th>age</th>\n",
       "      <th>workclass</th>\n",
       "      <th>final_weight</th>\n",
       "      <th>education</th>\n",
       "      <th>education_num</th>\n",
       "      <th>marital_status</th>\n",
       "      <th>occupation</th>\n",
       "      <th>relationship</th>\n",
       "      <th>race</th>\n",
       "      <th>sex</th>\n",
       "      <th>capital_gain</th>\n",
       "      <th>capital_loss</th>\n",
       "      <th>hours_per_week</th>\n",
       "      <th>native_country</th>\n",
       "      <th>target</th>\n",
       "    </tr>\n",
       "  </thead>\n",
       "  <tbody>\n",
       "    <tr>\n",
       "      <th>0</th>\n",
       "      <td>39</td>\n",
       "      <td>State-gov</td>\n",
       "      <td>77516</td>\n",
       "      <td>Bachelors</td>\n",
       "      <td>13</td>\n",
       "      <td>Never-married</td>\n",
       "      <td>Adm-clerical</td>\n",
       "      <td>Not-in-family</td>\n",
       "      <td>White</td>\n",
       "      <td>Male</td>\n",
       "      <td>2174</td>\n",
       "      <td>0</td>\n",
       "      <td>40</td>\n",
       "      <td>United-States</td>\n",
       "      <td>0</td>\n",
       "    </tr>\n",
       "    <tr>\n",
       "      <th>1</th>\n",
       "      <td>50</td>\n",
       "      <td>Self-emp-not-inc</td>\n",
       "      <td>83311</td>\n",
       "      <td>Bachelors</td>\n",
       "      <td>13</td>\n",
       "      <td>Married-civ-spouse</td>\n",
       "      <td>Exec-managerial</td>\n",
       "      <td>Husband</td>\n",
       "      <td>White</td>\n",
       "      <td>Male</td>\n",
       "      <td>0</td>\n",
       "      <td>0</td>\n",
       "      <td>13</td>\n",
       "      <td>United-States</td>\n",
       "      <td>0</td>\n",
       "    </tr>\n",
       "    <tr>\n",
       "      <th>2</th>\n",
       "      <td>38</td>\n",
       "      <td>Private</td>\n",
       "      <td>215646</td>\n",
       "      <td>HS-grad</td>\n",
       "      <td>9</td>\n",
       "      <td>Divorced</td>\n",
       "      <td>Handlers-cleaners</td>\n",
       "      <td>Not-in-family</td>\n",
       "      <td>White</td>\n",
       "      <td>Male</td>\n",
       "      <td>0</td>\n",
       "      <td>0</td>\n",
       "      <td>40</td>\n",
       "      <td>United-States</td>\n",
       "      <td>0</td>\n",
       "    </tr>\n",
       "    <tr>\n",
       "      <th>3</th>\n",
       "      <td>53</td>\n",
       "      <td>Private</td>\n",
       "      <td>234721</td>\n",
       "      <td>11th</td>\n",
       "      <td>7</td>\n",
       "      <td>Married-civ-spouse</td>\n",
       "      <td>Handlers-cleaners</td>\n",
       "      <td>Husband</td>\n",
       "      <td>Black</td>\n",
       "      <td>Male</td>\n",
       "      <td>0</td>\n",
       "      <td>0</td>\n",
       "      <td>40</td>\n",
       "      <td>United-States</td>\n",
       "      <td>0</td>\n",
       "    </tr>\n",
       "    <tr>\n",
       "      <th>4</th>\n",
       "      <td>28</td>\n",
       "      <td>Private</td>\n",
       "      <td>338409</td>\n",
       "      <td>Bachelors</td>\n",
       "      <td>13</td>\n",
       "      <td>Married-civ-spouse</td>\n",
       "      <td>Prof-specialty</td>\n",
       "      <td>Wife</td>\n",
       "      <td>Black</td>\n",
       "      <td>Female</td>\n",
       "      <td>0</td>\n",
       "      <td>0</td>\n",
       "      <td>40</td>\n",
       "      <td>Cuba</td>\n",
       "      <td>0</td>\n",
       "    </tr>\n",
       "  </tbody>\n",
       "</table>\n",
       "</div>"
      ],
      "text/plain": [
       "   age          workclass  final_weight   education  education_num  \\\n",
       "0   39          State-gov         77516   Bachelors             13   \n",
       "1   50   Self-emp-not-inc         83311   Bachelors             13   \n",
       "2   38            Private        215646     HS-grad              9   \n",
       "3   53            Private        234721        11th              7   \n",
       "4   28            Private        338409   Bachelors             13   \n",
       "\n",
       "        marital_status          occupation    relationship    race      sex  \\\n",
       "0        Never-married        Adm-clerical   Not-in-family   White     Male   \n",
       "1   Married-civ-spouse     Exec-managerial         Husband   White     Male   \n",
       "2             Divorced   Handlers-cleaners   Not-in-family   White     Male   \n",
       "3   Married-civ-spouse   Handlers-cleaners         Husband   Black     Male   \n",
       "4   Married-civ-spouse      Prof-specialty            Wife   Black   Female   \n",
       "\n",
       "   capital_gain  capital_loss  hours_per_week  native_country  target  \n",
       "0          2174             0              40   United-States       0  \n",
       "1             0             0              13   United-States       0  \n",
       "2             0             0              40   United-States       0  \n",
       "3             0             0              40   United-States       0  \n",
       "4             0             0              40            Cuba       0  "
      ]
     },
     "execution_count": 59,
     "metadata": {},
     "output_type": "execute_result"
    }
   ],
   "source": [
    "# Visualizando as primeiras 5 linhas\n",
    "adults.head()"
   ]
  },
  {
   "cell_type": "markdown",
   "id": "57f29e4f",
   "metadata": {},
   "source": [
    "<h1 style=\"text-align:center\">2.0 - Análise estrutural do dataset</h1>"
   ]
  },
  {
   "cell_type": "code",
   "execution_count": 60,
   "id": "ece9cb61",
   "metadata": {},
   "outputs": [
    {
     "name": "stdout",
     "output_type": "stream",
     "text": [
      "O dataset possui 32561 linhas e 15 colunas\n"
     ]
    }
   ],
   "source": [
    "# Número de linhas e colunas\n",
    "print(f\"O dataset possui {adults.shape[0]} linhas e {adults.shape[1]} colunas\")"
   ]
  },
  {
   "cell_type": "code",
   "execution_count": 61,
   "id": "97a608f9",
   "metadata": {},
   "outputs": [
    {
     "name": "stdout",
     "output_type": "stream",
     "text": [
      "<class 'pandas.core.frame.DataFrame'>\n",
      "RangeIndex: 32561 entries, 0 to 32560\n",
      "Data columns (total 15 columns):\n",
      " #   Column          Non-Null Count  Dtype \n",
      "---  ------          --------------  ----- \n",
      " 0   age             32561 non-null  int64 \n",
      " 1   workclass       32561 non-null  object\n",
      " 2   final_weight    32561 non-null  int64 \n",
      " 3   education       32561 non-null  object\n",
      " 4   education_num   32561 non-null  int64 \n",
      " 5   marital_status  32561 non-null  object\n",
      " 6   occupation      32561 non-null  object\n",
      " 7   relationship    32561 non-null  object\n",
      " 8   race            32561 non-null  object\n",
      " 9   sex             32561 non-null  object\n",
      " 10  capital_gain    32561 non-null  int64 \n",
      " 11  capital_loss    32561 non-null  int64 \n",
      " 12  hours_per_week  32561 non-null  int64 \n",
      " 13  native_country  32561 non-null  object\n",
      " 14  target          32561 non-null  int32 \n",
      "dtypes: int32(1), int64(6), object(8)\n",
      "memory usage: 3.6+ MB\n"
     ]
    }
   ],
   "source": [
    "# Informações de cada variável\n",
    "adults.info()"
   ]
  },
  {
   "cell_type": "code",
   "execution_count": 62,
   "id": "19822ccb",
   "metadata": {},
   "outputs": [
    {
     "data": {
      "text/plain": [
       "age               0\n",
       "workclass         0\n",
       "final_weight      0\n",
       "education         0\n",
       "education_num     0\n",
       "marital_status    0\n",
       "occupation        0\n",
       "relationship      0\n",
       "race              0\n",
       "sex               0\n",
       "capital_gain      0\n",
       "capital_loss      0\n",
       "hours_per_week    0\n",
       "native_country    0\n",
       "target            0\n",
       "dtype: int64"
      ]
     },
     "execution_count": 62,
     "metadata": {},
     "output_type": "execute_result"
    }
   ],
   "source": [
    "# Verificando se há dados faltantes\n",
    "adults.isnull().sum()"
   ]
  },
  {
   "cell_type": "code",
   "execution_count": 63,
   "id": "738dad5d",
   "metadata": {},
   "outputs": [
    {
     "name": "stdout",
     "output_type": "stream",
     "text": [
      "Há 24 linha(s) duplicada(s)\n"
     ]
    }
   ],
   "source": [
    "# Verificando se há linhas duplicadas\n",
    "print(f\"Há {adults.duplicated().sum()} linha(s) duplicada(s)\")"
   ]
  },
  {
   "cell_type": "code",
   "execution_count": 64,
   "id": "494041a5",
   "metadata": {},
   "outputs": [],
   "source": [
    "# Excluindo linhas duplicadas\n",
    "adults.drop_duplicates(keep = 'first', inplace = True)"
   ]
  },
  {
   "cell_type": "code",
   "execution_count": 65,
   "id": "3afbc364",
   "metadata": {},
   "outputs": [
    {
     "data": {
      "text/html": [
       "<div>\n",
       "<style scoped>\n",
       "    .dataframe tbody tr th:only-of-type {\n",
       "        vertical-align: middle;\n",
       "    }\n",
       "\n",
       "    .dataframe tbody tr th {\n",
       "        vertical-align: top;\n",
       "    }\n",
       "\n",
       "    .dataframe thead th {\n",
       "        text-align: right;\n",
       "    }\n",
       "</style>\n",
       "<table border=\"1\" class=\"dataframe\">\n",
       "  <thead>\n",
       "    <tr style=\"text-align: right;\">\n",
       "      <th></th>\n",
       "      <th>age</th>\n",
       "      <th>final_weight</th>\n",
       "      <th>education_num</th>\n",
       "      <th>capital_gain</th>\n",
       "      <th>capital_loss</th>\n",
       "      <th>hours_per_week</th>\n",
       "      <th>target</th>\n",
       "    </tr>\n",
       "  </thead>\n",
       "  <tbody>\n",
       "    <tr>\n",
       "      <th>count</th>\n",
       "      <td>32537.000000</td>\n",
       "      <td>3.253700e+04</td>\n",
       "      <td>32537.000000</td>\n",
       "      <td>32537.000000</td>\n",
       "      <td>32537.000000</td>\n",
       "      <td>32537.000000</td>\n",
       "      <td>32537.000000</td>\n",
       "    </tr>\n",
       "    <tr>\n",
       "      <th>mean</th>\n",
       "      <td>38.585549</td>\n",
       "      <td>1.897808e+05</td>\n",
       "      <td>10.081815</td>\n",
       "      <td>1078.443741</td>\n",
       "      <td>87.368227</td>\n",
       "      <td>40.440329</td>\n",
       "      <td>0.240926</td>\n",
       "    </tr>\n",
       "    <tr>\n",
       "      <th>std</th>\n",
       "      <td>13.637984</td>\n",
       "      <td>1.055565e+05</td>\n",
       "      <td>2.571633</td>\n",
       "      <td>7387.957424</td>\n",
       "      <td>403.101833</td>\n",
       "      <td>12.346889</td>\n",
       "      <td>0.427652</td>\n",
       "    </tr>\n",
       "    <tr>\n",
       "      <th>min</th>\n",
       "      <td>17.000000</td>\n",
       "      <td>1.228500e+04</td>\n",
       "      <td>1.000000</td>\n",
       "      <td>0.000000</td>\n",
       "      <td>0.000000</td>\n",
       "      <td>1.000000</td>\n",
       "      <td>0.000000</td>\n",
       "    </tr>\n",
       "    <tr>\n",
       "      <th>25%</th>\n",
       "      <td>28.000000</td>\n",
       "      <td>1.178270e+05</td>\n",
       "      <td>9.000000</td>\n",
       "      <td>0.000000</td>\n",
       "      <td>0.000000</td>\n",
       "      <td>40.000000</td>\n",
       "      <td>0.000000</td>\n",
       "    </tr>\n",
       "    <tr>\n",
       "      <th>50%</th>\n",
       "      <td>37.000000</td>\n",
       "      <td>1.783560e+05</td>\n",
       "      <td>10.000000</td>\n",
       "      <td>0.000000</td>\n",
       "      <td>0.000000</td>\n",
       "      <td>40.000000</td>\n",
       "      <td>0.000000</td>\n",
       "    </tr>\n",
       "    <tr>\n",
       "      <th>75%</th>\n",
       "      <td>48.000000</td>\n",
       "      <td>2.369930e+05</td>\n",
       "      <td>12.000000</td>\n",
       "      <td>0.000000</td>\n",
       "      <td>0.000000</td>\n",
       "      <td>45.000000</td>\n",
       "      <td>0.000000</td>\n",
       "    </tr>\n",
       "    <tr>\n",
       "      <th>max</th>\n",
       "      <td>90.000000</td>\n",
       "      <td>1.484705e+06</td>\n",
       "      <td>16.000000</td>\n",
       "      <td>99999.000000</td>\n",
       "      <td>4356.000000</td>\n",
       "      <td>99.000000</td>\n",
       "      <td>1.000000</td>\n",
       "    </tr>\n",
       "  </tbody>\n",
       "</table>\n",
       "</div>"
      ],
      "text/plain": [
       "                age  final_weight  education_num  capital_gain  capital_loss  \\\n",
       "count  32537.000000  3.253700e+04   32537.000000  32537.000000  32537.000000   \n",
       "mean      38.585549  1.897808e+05      10.081815   1078.443741     87.368227   \n",
       "std       13.637984  1.055565e+05       2.571633   7387.957424    403.101833   \n",
       "min       17.000000  1.228500e+04       1.000000      0.000000      0.000000   \n",
       "25%       28.000000  1.178270e+05       9.000000      0.000000      0.000000   \n",
       "50%       37.000000  1.783560e+05      10.000000      0.000000      0.000000   \n",
       "75%       48.000000  2.369930e+05      12.000000      0.000000      0.000000   \n",
       "max       90.000000  1.484705e+06      16.000000  99999.000000   4356.000000   \n",
       "\n",
       "       hours_per_week        target  \n",
       "count    32537.000000  32537.000000  \n",
       "mean        40.440329      0.240926  \n",
       "std         12.346889      0.427652  \n",
       "min          1.000000      0.000000  \n",
       "25%         40.000000      0.000000  \n",
       "50%         40.000000      0.000000  \n",
       "75%         45.000000      0.000000  \n",
       "max         99.000000      1.000000  "
      ]
     },
     "execution_count": 65,
     "metadata": {},
     "output_type": "execute_result"
    }
   ],
   "source": [
    "# Breve análise estatística\n",
    "adults.describe()"
   ]
  },
  {
   "cell_type": "code",
   "execution_count": 66,
   "id": "7bb36f63",
   "metadata": {},
   "outputs": [],
   "source": [
    "# Dividindo o dataset em treino e teste\n",
    "train, test = train_test_split(adults, test_size = 0.3, random_state = 0)"
   ]
  },
  {
   "cell_type": "markdown",
   "id": "658bd024",
   "metadata": {},
   "source": [
    "<h1 style=\"text-align:center\">3.0 - Análises Univariadas e Multivariadas</h1>"
   ]
  },
  {
   "cell_type": "markdown",
   "id": "6eaa2270",
   "metadata": {},
   "source": [
    "<h2 style=\"text-align:center\">3.1 - Análise Univariada</h2>"
   ]
  },
  {
   "cell_type": "code",
   "execution_count": 67,
   "id": "2c702fe8",
   "metadata": {},
   "outputs": [
    {
     "data": {
      "image/png": "[encoded data removed]",
      "text/plain": [
       "<Figure size 1152x648 with 1 Axes>"
      ]
     },
     "metadata": {},
     "output_type": "display_data"
    }
   ],
   "source": [
    "# Análise da variável alvo\n",
    "plt.figure(figsize = (16, 9))\n",
    "sns.countplot(data = adults, x = 'target')\n",
    "\n",
    "plt.title(\"Análise da variável alvo\")\n",
    "\n",
    "plt.show();"
   ]
  },
  {
   "cell_type": "code",
   "execution_count": 68,
   "id": "25be6e54",
   "metadata": {},
   "outputs": [
    {
     "name": "stdout",
     "output_type": "stream",
     "text": [
      "24.09% das pessoas ganham mais de $ 50k por ano\n"
     ]
    }
   ],
   "source": [
    "# Análise percentual\n",
    "print(f\"{100*adults.target.mean():.2f}% das pessoas ganham mais de $ 50k por ano\")"
   ]
  },
  {
   "cell_type": "code",
   "execution_count": 69,
   "id": "e6d75147",
   "metadata": {
    "scrolled": false
   },
   "outputs": [
    {
     "data": {
      "image/png": "[encoded data removed]",
      "text/plain": [
       "<Figure size 1152x648 with 2 Axes>"
      ]
     },
     "metadata": {},
     "output_type": "display_data"
    }
   ],
   "source": [
    "# Análise da distribuição das idades\n",
    "fig, axs = plt.subplots(1, 2, figsize=(16, 9))\n",
    "\n",
    "sns.histplot(adults, x = 'age', bins = 75, kde = True, ax = axs[0])\n",
    "sns.boxplot(data = adults, y = 'age', ax = axs[1])\n",
    "\n",
    "plt.show();"
   ]
  },
  {
   "cell_type": "code",
   "execution_count": 70,
   "id": "8a30536c",
   "metadata": {},
   "outputs": [
    {
     "data": {
      "text/html": [
       "<div>\n",
       "<style scoped>\n",
       "    .dataframe tbody tr th:only-of-type {\n",
       "        vertical-align: middle;\n",
       "    }\n",
       "\n",
       "    .dataframe tbody tr th {\n",
       "        vertical-align: top;\n",
       "    }\n",
       "\n",
       "    .dataframe thead th {\n",
       "        text-align: right;\n",
       "    }\n",
       "</style>\n",
       "<table border=\"1\" class=\"dataframe\">\n",
       "  <thead>\n",
       "    <tr style=\"text-align: right;\">\n",
       "      <th></th>\n",
       "      <th>age</th>\n",
       "    </tr>\n",
       "  </thead>\n",
       "  <tbody>\n",
       "    <tr>\n",
       "      <th>Min</th>\n",
       "      <td>17.000000</td>\n",
       "    </tr>\n",
       "    <tr>\n",
       "      <th>Max</th>\n",
       "      <td>90.000000</td>\n",
       "    </tr>\n",
       "    <tr>\n",
       "      <th>Desvio Padrão</th>\n",
       "      <td>13.637774</td>\n",
       "    </tr>\n",
       "    <tr>\n",
       "      <th>Média</th>\n",
       "      <td>38.585549</td>\n",
       "    </tr>\n",
       "    <tr>\n",
       "      <th>Mediana</th>\n",
       "      <td>37.000000</td>\n",
       "    </tr>\n",
       "  </tbody>\n",
       "</table>\n",
       "</div>"
      ],
      "text/plain": [
       "                     age\n",
       "Min            17.000000\n",
       "Max            90.000000\n",
       "Desvio Padrão  13.637774\n",
       "Média          38.585549\n",
       "Mediana        37.000000"
      ]
     },
     "execution_count": 70,
     "metadata": {},
     "output_type": "execute_result"
    }
   ],
   "source": [
    "# Análise estatística pontual - Idade\n",
    "show_stat(\"age\")"
   ]
  },
  {
   "cell_type": "code",
   "execution_count": 71,
   "id": "9bfab54b",
   "metadata": {},
   "outputs": [
    {
     "data": {
      "image/png": "[encoded data removed]",
      "text/plain": [
       "<Figure size 1152x648 with 1 Axes>"
      ]
     },
     "metadata": {},
     "output_type": "display_data"
    }
   ],
   "source": [
    "# Análise racial\n",
    "plt.figure(figsize = (16, 9))\n",
    "sns.countplot(data = adults, x = 'race')\n",
    "\n",
    "plt.title(\"Análise do número de pessoas por raça\")\n",
    "\n",
    "plt.show();"
   ]
  },
  {
   "cell_type": "markdown",
   "id": "3c5568b7",
   "metadata": {},
   "source": [
    "<h2 style=\"text-align:center\">3.2 - Análise Multivariada</h2>"
   ]
  },
  {
   "cell_type": "markdown",
   "id": "aa714216",
   "metadata": {},
   "source": [
    "<div style = \"text-align:center\"><strong>1. Há um salto muito grande no salário de bacharéis, mestres e doutores?</strong></div>"
   ]
  },
  {
   "cell_type": "markdown",
   "id": "8fee3a8f",
   "metadata": {},
   "source": [
    "Para responder a essa pergunta, vamos analisar a proporção de bacharéis, mestres e doutores que possuem o salário anual acima de $ 50k ano"
   ]
  },
  {
   "cell_type": "code",
   "execution_count": 72,
   "id": "129ffa3c",
   "metadata": {
    "scrolled": false
   },
   "outputs": [
    {
     "data": {
      "image/png": "[encoded data removed]",
      "text/plain": [
       "<Figure size 1152x648 with 1 Axes>"
      ]
     },
     "metadata": {},
     "output_type": "display_data"
    }
   ],
   "source": [
    "# Plotando o gráfico\n",
    "plt.figure(figsize = (16, 9))\n",
    "\n",
    "aux_df = adults[adults['education'].isin([\" Bachelors\", \" Masters\", \" Doctorate\"])]\n",
    "\n",
    "sns.countplot(data = aux_df, x = 'education', hue = 'target')\n",
    "\n",
    "plt.title(\"Proporção de salário por nível educacional (Bacharéis, Mestres e Doutores)\")\n",
    "\n",
    "plt.show()"
   ]
  },
  {
   "cell_type": "code",
   "execution_count": 73,
   "id": "22542309",
   "metadata": {
    "scrolled": true
   },
   "outputs": [
    {
     "name": "stdout",
     "output_type": "stream",
     "text": [
      "Porcentagem de bacharéis que ganham mais que $ 50k por ano: 41.49%\n",
      "Porcentagem de mestres que ganham mais que $ 50k por ano: 55.69%\n",
      "Porcentagem de doutores que ganham mais que $ 50k por ano: 74.09%\n"
     ]
    }
   ],
   "source": [
    "# Análise percentual\n",
    "education_list = [\" Bachelors\", \" Masters\", \" Doctorate\"]\n",
    "lista_auxiliar = [\"bacharéis\", \"mestres\", \"doutores\"]\n",
    "\n",
    "for indice, education in enumerate(education_list):\n",
    "    prop = aux_df[aux_df.education == education].target.mean()\n",
    "    print(f\"Porcentagem de {lista_auxiliar[indice]} que ganham mais que $ 50k por ano: {prop*100:.2f}%\")"
   ]
  },
  {
   "cell_type": "markdown",
   "id": "30123293",
   "metadata": {},
   "source": [
    "Como não temos a quantia exata do salário anual, mas sim uma variável que informa apenas se o salário é maior que um determinado valor ou não, não podemos falar sobre saltos salariais.\n",
    "\n",
    "Entretanto, é notório que, quanto maior o nível educacional, maior é o número de pessoas que recebem acima de $ 50k por ano."
   ]
  },
  {
   "cell_type": "markdown",
   "id": "eef47bd9",
   "metadata": {},
   "source": [
    "<div style = \"text-align:center\"><strong>2. O valor da hora trabalhada aumenta com o aumento da escolaridade? </strong></div>"
   ]
  },
  {
   "cell_type": "markdown",
   "id": "8225ebd1",
   "metadata": {},
   "source": [
    "Note que, novamente, não seremos capazes de responder com precisão devido a ausência de uma variável salário contínua. Entretanto, podemos ter uma ideia analisando a proporção de cada nível educacional que recebe acima de $ 50k por ano, por hora de trabalho semanal."
   ]
  },
  {
   "cell_type": "code",
   "execution_count": 74,
   "id": "ac03d10d",
   "metadata": {},
   "outputs": [],
   "source": [
    "# Criando lista com as escolaridades em ordem crescente\n",
    "education_level = [\" Preschool\", \" 1st-4th\", \" 5th-6th\", \" 7th-8th\", \" 9th\", \" 10th\", \" 11th\", \" 12th\", \" HS-grad\",\n",
    "                   \" Some-college\", \" Assoc-voc\", \" Assoc-acdm\", \" Bachelors\", \" Masters\", \" Prof-school\", \" Doctorate\"]"
   ]
  },
  {
   "cell_type": "code",
   "execution_count": 75,
   "id": "39fa5665",
   "metadata": {},
   "outputs": [
    {
     "data": {
      "text/html": [
       "<div>\n",
       "<style scoped>\n",
       "    .dataframe tbody tr th:only-of-type {\n",
       "        vertical-align: middle;\n",
       "    }\n",
       "\n",
       "    .dataframe tbody tr th {\n",
       "        vertical-align: top;\n",
       "    }\n",
       "\n",
       "    .dataframe thead th {\n",
       "        text-align: right;\n",
       "    }\n",
       "</style>\n",
       "<table border=\"1\" class=\"dataframe\">\n",
       "  <thead>\n",
       "    <tr style=\"text-align: right;\">\n",
       "      <th></th>\n",
       "      <th>Nível educacional</th>\n",
       "      <th>Número médio de horas (&lt;=50k)</th>\n",
       "      <th>Número médio de horas (&gt;50k)</th>\n",
       "    </tr>\n",
       "  </thead>\n",
       "  <tbody>\n",
       "    <tr>\n",
       "      <th>0</th>\n",
       "      <td>Preschool</td>\n",
       "      <td>36.380000</td>\n",
       "      <td>NaN</td>\n",
       "    </tr>\n",
       "    <tr>\n",
       "      <th>1</th>\n",
       "      <td>1st-4th</td>\n",
       "      <td>37.837500</td>\n",
       "      <td>48.833333</td>\n",
       "    </tr>\n",
       "    <tr>\n",
       "      <th>2</th>\n",
       "      <td>5th-6th</td>\n",
       "      <td>38.487342</td>\n",
       "      <td>46.000000</td>\n",
       "    </tr>\n",
       "    <tr>\n",
       "      <th>3</th>\n",
       "      <td>7th-8th</td>\n",
       "      <td>38.828099</td>\n",
       "      <td>47.500000</td>\n",
       "    </tr>\n",
       "    <tr>\n",
       "      <th>4</th>\n",
       "      <td>9th</td>\n",
       "      <td>37.667351</td>\n",
       "      <td>44.851852</td>\n",
       "    </tr>\n",
       "    <tr>\n",
       "      <th>5</th>\n",
       "      <td>10th</td>\n",
       "      <td>36.574053</td>\n",
       "      <td>43.774194</td>\n",
       "    </tr>\n",
       "    <tr>\n",
       "      <th>6</th>\n",
       "      <td>11th</td>\n",
       "      <td>33.322870</td>\n",
       "      <td>45.133333</td>\n",
       "    </tr>\n",
       "    <tr>\n",
       "      <th>7</th>\n",
       "      <td>12th</td>\n",
       "      <td>35.035000</td>\n",
       "      <td>44.818182</td>\n",
       "    </tr>\n",
       "    <tr>\n",
       "      <th>8</th>\n",
       "      <td>HS-grad</td>\n",
       "      <td>39.727324</td>\n",
       "      <td>45.041219</td>\n",
       "    </tr>\n",
       "    <tr>\n",
       "      <th>9</th>\n",
       "      <td>Some-college</td>\n",
       "      <td>37.468962</td>\n",
       "      <td>44.823954</td>\n",
       "    </tr>\n",
       "    <tr>\n",
       "      <th>10</th>\n",
       "      <td>Assoc-voc</td>\n",
       "      <td>40.817826</td>\n",
       "      <td>43.853186</td>\n",
       "    </tr>\n",
       "    <tr>\n",
       "      <th>11</th>\n",
       "      <td>Assoc-acdm</td>\n",
       "      <td>39.264339</td>\n",
       "      <td>44.256604</td>\n",
       "    </tr>\n",
       "    <tr>\n",
       "      <th>12</th>\n",
       "      <td>Bachelors</td>\n",
       "      <td>40.584930</td>\n",
       "      <td>45.475462</td>\n",
       "    </tr>\n",
       "    <tr>\n",
       "      <th>13</th>\n",
       "      <td>Masters</td>\n",
       "      <td>41.212320</td>\n",
       "      <td>45.917623</td>\n",
       "    </tr>\n",
       "    <tr>\n",
       "      <th>14</th>\n",
       "      <td>Prof-school</td>\n",
       "      <td>42.816993</td>\n",
       "      <td>49.092199</td>\n",
       "    </tr>\n",
       "    <tr>\n",
       "      <th>15</th>\n",
       "      <td>Doctorate</td>\n",
       "      <td>45.429907</td>\n",
       "      <td>47.513072</td>\n",
       "    </tr>\n",
       "  </tbody>\n",
       "</table>\n",
       "</div>"
      ],
      "text/plain": [
       "   Nível educacional  Número médio de horas (<=50k)  \\\n",
       "0          Preschool                      36.380000   \n",
       "1            1st-4th                      37.837500   \n",
       "2            5th-6th                      38.487342   \n",
       "3            7th-8th                      38.828099   \n",
       "4                9th                      37.667351   \n",
       "5               10th                      36.574053   \n",
       "6               11th                      33.322870   \n",
       "7               12th                      35.035000   \n",
       "8            HS-grad                      39.727324   \n",
       "9       Some-college                      37.468962   \n",
       "10         Assoc-voc                      40.817826   \n",
       "11        Assoc-acdm                      39.264339   \n",
       "12         Bachelors                      40.584930   \n",
       "13           Masters                      41.212320   \n",
       "14       Prof-school                      42.816993   \n",
       "15         Doctorate                      45.429907   \n",
       "\n",
       "    Número médio de horas (>50k)  \n",
       "0                            NaN  \n",
       "1                      48.833333  \n",
       "2                      46.000000  \n",
       "3                      47.500000  \n",
       "4                      44.851852  \n",
       "5                      43.774194  \n",
       "6                      45.133333  \n",
       "7                      44.818182  \n",
       "8                      45.041219  \n",
       "9                      44.823954  \n",
       "10                     43.853186  \n",
       "11                     44.256604  \n",
       "12                     45.475462  \n",
       "13                     45.917623  \n",
       "14                     49.092199  \n",
       "15                     47.513072  "
      ]
     },
     "execution_count": 75,
     "metadata": {},
     "output_type": "execute_result"
    }
   ],
   "source": [
    "# Criando loop para armazenar média de horas por grupo salarial e educacional\n",
    "\n",
    "avg_hours_0_list = list()\n",
    "avg_hours_1_list = list()\n",
    "\n",
    "for education in education_level:\n",
    "    avg_hours_0 = adults[(adults['education'] == education) & (adults['target'] == 0)]['hours_per_week'].mean()\n",
    "    avg_hours_1 = adults[(adults['education'] == education) & (adults['target'] == 1)]['hours_per_week'].mean()\n",
    "    \n",
    "    avg_hours_0_list.append(avg_hours_0)\n",
    "    avg_hours_1_list.append(avg_hours_1)\n",
    "\n",
    "# Criando um dataframe para apresentar o resultado\n",
    "education_vs_hours = pd.DataFrame({\n",
    "    \"Nível educacional\": [x[1:] for x in education_level],\n",
    "    \"Número médio de horas (<=50k)\": avg_hours_0_list,\n",
    "    \"Número médio de horas (>50k)\": avg_hours_1_list\n",
    "})\n",
    "\n",
    "education_vs_hours"
   ]
  },
  {
   "cell_type": "markdown",
   "id": "c2ce0416",
   "metadata": {},
   "source": [
    "Como não é possível determinar o valor salario/hora, vamos separar o dataset em dois grupos e orderná-lo de acordo com o número médio de horas de trabalho. Os grupos são:\n",
    "1. Os que recebem um valor menor ou igual a 50k por ano\n",
    "2. Os que recebem mais de 50k por ano"
   ]
  },
  {
   "cell_type": "code",
   "execution_count": 76,
   "id": "70cb141f",
   "metadata": {},
   "outputs": [
    {
     "name": "stdout",
     "output_type": "stream",
     "text": [
      "O aumento percentual do número de horas do grupo 1 para o grupo 2, para o mesmo nível educacional, foi de 17.93%\n"
     ]
    }
   ],
   "source": [
    "# Cálculo do percentual médio de aumento do número de horas por semana entre o grupo 1 e 2 (Com exceção do pré-escolar)\n",
    "percent = np.mean((np.array(avg_hours_1_list[1:]) - np.array(avg_hours_0_list[1:]))/np.array(avg_hours_0_list[1:]))\n",
    "\n",
    "print(f\"O aumento percentual do número de horas do grupo 1 para o grupo 2, para o mesmo nível educacional, foi de {100*percent:.2f}%\")"
   ]
  },
  {
   "cell_type": "code",
   "execution_count": 77,
   "id": "665892e7",
   "metadata": {},
   "outputs": [
    {
     "data": {
      "text/html": [
       "<div>\n",
       "<style scoped>\n",
       "    .dataframe tbody tr th:only-of-type {\n",
       "        vertical-align: middle;\n",
       "    }\n",
       "\n",
       "    .dataframe tbody tr th {\n",
       "        vertical-align: top;\n",
       "    }\n",
       "\n",
       "    .dataframe thead th {\n",
       "        text-align: right;\n",
       "    }\n",
       "</style>\n",
       "<table border=\"1\" class=\"dataframe\">\n",
       "  <thead>\n",
       "    <tr style=\"text-align: right;\">\n",
       "      <th></th>\n",
       "      <th>Nível educacional</th>\n",
       "      <th>Número médio de horas (&lt;=50k)</th>\n",
       "    </tr>\n",
       "  </thead>\n",
       "  <tbody>\n",
       "    <tr>\n",
       "      <th>6</th>\n",
       "      <td>11th</td>\n",
       "      <td>33.322870</td>\n",
       "    </tr>\n",
       "    <tr>\n",
       "      <th>7</th>\n",
       "      <td>12th</td>\n",
       "      <td>35.035000</td>\n",
       "    </tr>\n",
       "    <tr>\n",
       "      <th>0</th>\n",
       "      <td>Preschool</td>\n",
       "      <td>36.380000</td>\n",
       "    </tr>\n",
       "    <tr>\n",
       "      <th>5</th>\n",
       "      <td>10th</td>\n",
       "      <td>36.574053</td>\n",
       "    </tr>\n",
       "    <tr>\n",
       "      <th>9</th>\n",
       "      <td>Some-college</td>\n",
       "      <td>37.468962</td>\n",
       "    </tr>\n",
       "  </tbody>\n",
       "</table>\n",
       "</div>"
      ],
      "text/plain": [
       "  Nível educacional  Número médio de horas (<=50k)\n",
       "6              11th                      33.322870\n",
       "7              12th                      35.035000\n",
       "0         Preschool                      36.380000\n",
       "5              10th                      36.574053\n",
       "9      Some-college                      37.468962"
      ]
     },
     "execution_count": 77,
     "metadata": {},
     "output_type": "execute_result"
    }
   ],
   "source": [
    "# 1. Recebem um valor menor ou igual a $ 50k:\n",
    "\n",
    "education_vs_hours.sort_values('Número médio de horas (<=50k)', ascending = True).iloc[:, [0, 1]].head()"
   ]
  },
  {
   "cell_type": "code",
   "execution_count": 78,
   "id": "48b9c398",
   "metadata": {},
   "outputs": [
    {
     "data": {
      "text/html": [
       "<div>\n",
       "<style scoped>\n",
       "    .dataframe tbody tr th:only-of-type {\n",
       "        vertical-align: middle;\n",
       "    }\n",
       "\n",
       "    .dataframe tbody tr th {\n",
       "        vertical-align: top;\n",
       "    }\n",
       "\n",
       "    .dataframe thead th {\n",
       "        text-align: right;\n",
       "    }\n",
       "</style>\n",
       "<table border=\"1\" class=\"dataframe\">\n",
       "  <thead>\n",
       "    <tr style=\"text-align: right;\">\n",
       "      <th></th>\n",
       "      <th>Nível educacional</th>\n",
       "      <th>Número médio de horas (&gt;50k)</th>\n",
       "    </tr>\n",
       "  </thead>\n",
       "  <tbody>\n",
       "    <tr>\n",
       "      <th>5</th>\n",
       "      <td>10th</td>\n",
       "      <td>43.774194</td>\n",
       "    </tr>\n",
       "    <tr>\n",
       "      <th>10</th>\n",
       "      <td>Assoc-voc</td>\n",
       "      <td>43.853186</td>\n",
       "    </tr>\n",
       "    <tr>\n",
       "      <th>11</th>\n",
       "      <td>Assoc-acdm</td>\n",
       "      <td>44.256604</td>\n",
       "    </tr>\n",
       "    <tr>\n",
       "      <th>7</th>\n",
       "      <td>12th</td>\n",
       "      <td>44.818182</td>\n",
       "    </tr>\n",
       "    <tr>\n",
       "      <th>9</th>\n",
       "      <td>Some-college</td>\n",
       "      <td>44.823954</td>\n",
       "    </tr>\n",
       "  </tbody>\n",
       "</table>\n",
       "</div>"
      ],
      "text/plain": [
       "   Nível educacional  Número médio de horas (>50k)\n",
       "5               10th                     43.774194\n",
       "10         Assoc-voc                     43.853186\n",
       "11        Assoc-acdm                     44.256604\n",
       "7               12th                     44.818182\n",
       "9       Some-college                     44.823954"
      ]
     },
     "execution_count": 78,
     "metadata": {},
     "output_type": "execute_result"
    }
   ],
   "source": [
    "# 2. Recebem mais de $ 50k:\n",
    "\n",
    "education_vs_hours.sort_values('Número médio de horas (>50k)', ascending = True).iloc[:, [0, 2]].head()"
   ]
  },
  {
   "cell_type": "code",
   "execution_count": 79,
   "id": "3a0637fd",
   "metadata": {},
   "outputs": [
    {
     "data": {
      "image/png": "[encoded data removed]",
      "text/plain": [
       "<Figure size 1152x864 with 2 Axes>"
      ]
     },
     "metadata": {},
     "output_type": "display_data"
    }
   ],
   "source": [
    "# Plotando o resultado\n",
    "fig, axs = plt.subplots(2, 1, figsize = (16, 12))\n",
    "\n",
    "sns.barplot(x = education_level, y = avg_hours_0_list, ax = axs[0])\n",
    "axs[0].set_title(\"Número médio de horas de trabalho por semana (Salário anual <= $ 50k)\")\n",
    "axs[0].set_xlabel(\"Nível educacional\")\n",
    "axs[0].set_ylabel(\"Número médio de horas de trabalho por semana\")\n",
    "axs[0].set_yticks([0, 10, 20, 30, 40, 50])\n",
    "\n",
    "sns.barplot(x = education_level, y = avg_hours_1_list, ax = axs[1])\n",
    "axs[1].set_title(\"Número médio de horas de trabalho por semana (Salário anual > $ 50k)\")\n",
    "axs[1].set_xlabel(\"Nível educacional\")\n",
    "axs[1].set_ylabel(\"Número médio de horas de trabalho por semana\")\n",
    "axs[1].set_yticks([0, 10, 20, 30, 40, 50])\n",
    "\n",
    "plt.show()"
   ]
  },
  {
   "cell_type": "markdown",
   "id": "2f1c2f16",
   "metadata": {},
   "source": [
    "Infelizmente, não é possível extrair tantos insights, visto que há apenas dois grupos salariais e não o valor exato. Isso nos impede de fazer qualquer afirmação com relação ao valor salario/hora. \n",
    "\n",
    "Entretanto, é importante notar que para todos os níveis educacionais, com exceção do nível pré-escolar, o número médio de horas trabalhadas por semana, para o mesmo nível educacional, aumentou do grupo que ganha menos ou igual a 50k por ano para o grupo que ganha mais de 50k. Mais precisamente, o aumento foi de 17.93% \n",
    "\n",
    "Além disso, não há pessoas com o nível pré-escolar que recebem mais de 50k por ano."
   ]
  },
  {
   "cell_type": "markdown",
   "id": "4374862a",
   "metadata": {},
   "source": [
    "<div style = \"text-align:center\"><strong>3. Solteiros ganham mais que pessoas em algum tipo de relacionamento? </strong></div>"
   ]
  },
  {
   "cell_type": "markdown",
   "id": "044e626c",
   "metadata": {},
   "source": [
    "Para responder a essa pergunta, novamente, não teremos tanta precisão. Porém, podemos separar o dataframe em grupos de pessoas com o mesmo tipo de relacionamento e olhar a proporção, dentro desse grupo, de pessoas que ganham mais de 50k."
   ]
  },
  {
   "cell_type": "code",
   "execution_count": 80,
   "id": "949f9789",
   "metadata": {},
   "outputs": [
    {
     "name": "stdout",
     "output_type": "stream",
     "text": [
      "Valores únicos de 'relationship': \n",
      "[' Not-in-family' ' Husband' ' Wife' ' Own-child' ' Unmarried'\n",
      " ' Other-relative']\n"
     ]
    }
   ],
   "source": [
    "# Vamos analisar a variável \"relationship\" para ver qual dos valroes representam os solteiros\n",
    "print(f\"Valores únicos de 'relationship': \\n{adults.relationship.unique()}\")"
   ]
  },
  {
   "cell_type": "code",
   "execution_count": 81,
   "id": "faf72695",
   "metadata": {},
   "outputs": [
    {
     "data": {
      "text/plain": [
       "relationship\n",
       " Husband           0.448624\n",
       " Not-in-family     0.103232\n",
       " Other-relative    0.037717\n",
       " Own-child         0.013231\n",
       " Unmarried         0.063280\n",
       " Wife              0.475128\n",
       "Name: target, dtype: float64"
      ]
     },
     "execution_count": 81,
     "metadata": {},
     "output_type": "execute_result"
    }
   ],
   "source": [
    "# Criando o dataframe auxiliar\n",
    "rel_df = adults.groupby('relationship')['target'].mean()\n",
    "rel_df"
   ]
  },
  {
   "cell_type": "code",
   "execution_count": 82,
   "id": "829e6f27",
   "metadata": {},
   "outputs": [
    {
     "data": {
      "image/png": "[encoded data removed]",
      "text/plain": [
       "<Figure size 1152x648 with 1 Axes>"
      ]
     },
     "metadata": {},
     "output_type": "display_data"
    }
   ],
   "source": [
    "# Plotando o gráfico\n",
    "plt.figure(figsize = (16, 9))\n",
    "rel_df.plot.bar()\n",
    "plt.title(\"Porcentagem de pessoas que ganham mais de 50k por status de relacionamento\")\n",
    "plt.xlabel(\"Relação\")\n",
    "plt.ylabel(\"Porcentagem de pessoas\")\n",
    "plt.show()"
   ]
  },
  {
   "cell_type": "markdown",
   "id": "faa78951",
   "metadata": {},
   "source": [
    "Como podemos ver, claramente solteiros não ganham mais que pessoas em relacionamento. Na verdade, maridos e esposas são os dois status de relacionamento que possuem maior porcentagem de pessoas que ganham mais de 50k por ano."
   ]
  },
  {
   "cell_type": "markdown",
   "id": "b0a4f463",
   "metadata": {},
   "source": [
    "<div style = \"text-align:center\"><strong>4. Com o aumento do nível de escolaridade, a proporção de homens e mulheres se mantém? E a proporção de brancos e negros? </strong></div>"
   ]
  },
  {
   "cell_type": "markdown",
   "id": "8afa8251",
   "metadata": {},
   "source": [
    "Inicialmente, vamos responder a primeira pergunta. Depois, vamos aplicar a mesma ideia utilizada na primeira pergunta para responder a segunda."
   ]
  },
  {
   "cell_type": "code",
   "execution_count": 83,
   "id": "5ff634f2",
   "metadata": {},
   "outputs": [
    {
     "data": {
      "image/png": "[encoded data removed]",
      "text/plain": [
       "<Figure size 1152x648 with 1 Axes>"
      ]
     },
     "metadata": {},
     "output_type": "display_data"
    }
   ],
   "source": [
    "# Criando um gráfico para auxiliar na visualização\n",
    "plt.figure(figsize = (16, 9))\n",
    "\n",
    "sns.countplot(data = adults.set_index('education').loc[education_level].reset_index(), x = 'education', hue = 'sex')\n",
    "\n",
    "plt.show()"
   ]
  },
  {
   "cell_type": "markdown",
   "id": "af39d320",
   "metadata": {},
   "source": [
    "Notamos que em todos os níveis educacionais há mais homens que mulheres, porém vamos analisar se a proporção aumenta com o nível escolar."
   ]
  },
  {
   "cell_type": "code",
   "execution_count": 84,
   "id": "0d5f4056",
   "metadata": {},
   "outputs": [
    {
     "data": {
      "text/html": [
       "<div>\n",
       "<style scoped>\n",
       "    .dataframe tbody tr th:only-of-type {\n",
       "        vertical-align: middle;\n",
       "    }\n",
       "\n",
       "    .dataframe tbody tr th {\n",
       "        vertical-align: top;\n",
       "    }\n",
       "\n",
       "    .dataframe thead th {\n",
       "        text-align: right;\n",
       "    }\n",
       "</style>\n",
       "<table border=\"1\" class=\"dataframe\">\n",
       "  <thead>\n",
       "    <tr style=\"text-align: right;\">\n",
       "      <th></th>\n",
       "      <th>Proporção de homens</th>\n",
       "      <th>Proporção de mulheres</th>\n",
       "    </tr>\n",
       "  </thead>\n",
       "  <tbody>\n",
       "    <tr>\n",
       "      <th>Preschool</th>\n",
       "      <td>0.680000</td>\n",
       "      <td>0.320000</td>\n",
       "    </tr>\n",
       "    <tr>\n",
       "      <th>1st-4th</th>\n",
       "      <td>0.734940</td>\n",
       "      <td>0.265060</td>\n",
       "    </tr>\n",
       "    <tr>\n",
       "      <th>5th-6th</th>\n",
       "      <td>0.746988</td>\n",
       "      <td>0.253012</td>\n",
       "    </tr>\n",
       "    <tr>\n",
       "      <th>7th-8th</th>\n",
       "      <td>0.751938</td>\n",
       "      <td>0.248062</td>\n",
       "    </tr>\n",
       "    <tr>\n",
       "      <th>9th</th>\n",
       "      <td>0.719844</td>\n",
       "      <td>0.280156</td>\n",
       "    </tr>\n",
       "    <tr>\n",
       "      <th>10th</th>\n",
       "      <td>0.683816</td>\n",
       "      <td>0.316184</td>\n",
       "    </tr>\n",
       "    <tr>\n",
       "      <th>11th</th>\n",
       "      <td>0.632340</td>\n",
       "      <td>0.367660</td>\n",
       "    </tr>\n",
       "    <tr>\n",
       "      <th>12th</th>\n",
       "      <td>0.667436</td>\n",
       "      <td>0.332564</td>\n",
       "    </tr>\n",
       "    <tr>\n",
       "      <th>HS-grad</th>\n",
       "      <td>0.677149</td>\n",
       "      <td>0.322851</td>\n",
       "    </tr>\n",
       "    <tr>\n",
       "      <th>Some-college</th>\n",
       "      <td>0.615216</td>\n",
       "      <td>0.384784</td>\n",
       "    </tr>\n",
       "    <tr>\n",
       "      <th>Assoc-voc</th>\n",
       "      <td>0.638205</td>\n",
       "      <td>0.361795</td>\n",
       "    </tr>\n",
       "    <tr>\n",
       "      <th>Assoc-acdm</th>\n",
       "      <td>0.605436</td>\n",
       "      <td>0.394564</td>\n",
       "    </tr>\n",
       "    <tr>\n",
       "      <th>Bachelors</th>\n",
       "      <td>0.697740</td>\n",
       "      <td>0.302260</td>\n",
       "    </tr>\n",
       "    <tr>\n",
       "      <th>Masters</th>\n",
       "      <td>0.688734</td>\n",
       "      <td>0.311266</td>\n",
       "    </tr>\n",
       "    <tr>\n",
       "      <th>Prof-school</th>\n",
       "      <td>0.840278</td>\n",
       "      <td>0.159722</td>\n",
       "    </tr>\n",
       "    <tr>\n",
       "      <th>Doctorate</th>\n",
       "      <td>0.791768</td>\n",
       "      <td>0.208232</td>\n",
       "    </tr>\n",
       "  </tbody>\n",
       "</table>\n",
       "</div>"
      ],
      "text/plain": [
       "              Proporção de homens  Proporção de mulheres\n",
       "Preschool                0.680000               0.320000\n",
       "1st-4th                  0.734940               0.265060\n",
       "5th-6th                  0.746988               0.253012\n",
       "7th-8th                  0.751938               0.248062\n",
       "9th                      0.719844               0.280156\n",
       "10th                     0.683816               0.316184\n",
       "11th                     0.632340               0.367660\n",
       "12th                     0.667436               0.332564\n",
       "HS-grad                  0.677149               0.322851\n",
       "Some-college             0.615216               0.384784\n",
       "Assoc-voc                0.638205               0.361795\n",
       "Assoc-acdm               0.605436               0.394564\n",
       "Bachelors                0.697740               0.302260\n",
       "Masters                  0.688734               0.311266\n",
       "Prof-school              0.840278               0.159722\n",
       "Doctorate                0.791768               0.208232"
      ]
     },
     "execution_count": 84,
     "metadata": {},
     "output_type": "execute_result"
    }
   ],
   "source": [
    "# Criando listas para armazenar as proporções\n",
    "male_prop = list()\n",
    "female_prop = list()\n",
    "\n",
    "# Criando um loop para calcular as proporções\n",
    "for education in education_level:\n",
    "    total = adults.groupby(['education', 'sex'])['sex'].count()[education].sum()\n",
    "    total_male = adults.groupby(['education', 'sex'])['sex'].count()[education][' Male']\n",
    "    total_female = adults.groupby(['education', 'sex'])['sex'].count()[education][' Female']\n",
    "    \n",
    "    prop_male = total_male/total\n",
    "    prop_female = total_female/total\n",
    "    \n",
    "    male_prop.append(prop_male)\n",
    "    female_prop.append(prop_female)\n",
    "    \n",
    "# Criando um dataframe para armazenar os resultados\n",
    "male_female_prop = pd.DataFrame({\n",
    "    \"Proporção de homens\": male_prop,\n",
    "    \"Proporção de mulheres\": female_prop\n",
    "    },\n",
    "    index = [x[1:] for x in education_level])\n",
    "\n",
    "male_female_prop"
   ]
  },
  {
   "cell_type": "markdown",
   "id": "f3bfa0d3",
   "metadata": {},
   "source": [
    "Agora, vamos utilizar praticamente as mesmas linhas de código para responder a segunda pergunta"
   ]
  },
  {
   "cell_type": "code",
   "execution_count": 85,
   "id": "ce21feb4",
   "metadata": {},
   "outputs": [],
   "source": [
    "# Criando um dataframe apenas com pessoas brancas e negras\n",
    "race_aux = adults[adults['race'].isin([' White', ' Black'])]"
   ]
  },
  {
   "cell_type": "code",
   "execution_count": 86,
   "id": "fa7d8188",
   "metadata": {
    "scrolled": false
   },
   "outputs": [
    {
     "data": {
      "image/png": "[encoded data removed]",
      "text/plain": [
       "<Figure size 1152x648 with 1 Axes>"
      ]
     },
     "metadata": {},
     "output_type": "display_data"
    }
   ],
   "source": [
    "# Criando um gráfico para auxiliar na visualização\n",
    "plt.figure(figsize = (16, 9))\n",
    "\n",
    "sns.countplot(data = race_aux.set_index('education').loc[education_level].reset_index(), x = 'education', hue = 'race')\n",
    "\n",
    "plt.show()"
   ]
  },
  {
   "cell_type": "markdown",
   "id": "73aa70b2",
   "metadata": {},
   "source": [
    "Notamos que em todos os níveis educacionais há mais brancos que negros, porém vamos analisar se a proporção aumenta com o nível escolar."
   ]
  },
  {
   "cell_type": "code",
   "execution_count": 87,
   "id": "2f60ca7e",
   "metadata": {},
   "outputs": [
    {
     "data": {
      "text/html": [
       "<div>\n",
       "<style scoped>\n",
       "    .dataframe tbody tr th:only-of-type {\n",
       "        vertical-align: middle;\n",
       "    }\n",
       "\n",
       "    .dataframe tbody tr th {\n",
       "        vertical-align: top;\n",
       "    }\n",
       "\n",
       "    .dataframe thead th {\n",
       "        text-align: right;\n",
       "    }\n",
       "</style>\n",
       "<table border=\"1\" class=\"dataframe\">\n",
       "  <thead>\n",
       "    <tr style=\"text-align: right;\">\n",
       "      <th></th>\n",
       "      <th>Proporção de brancos</th>\n",
       "      <th>Proporção de negros</th>\n",
       "    </tr>\n",
       "  </thead>\n",
       "  <tbody>\n",
       "    <tr>\n",
       "      <th>Preschool</th>\n",
       "      <td>0.880952</td>\n",
       "      <td>0.119048</td>\n",
       "    </tr>\n",
       "    <tr>\n",
       "      <th>1st-4th</th>\n",
       "      <td>0.891892</td>\n",
       "      <td>0.108108</td>\n",
       "    </tr>\n",
       "    <tr>\n",
       "      <th>5th-6th</th>\n",
       "      <td>0.929766</td>\n",
       "      <td>0.070234</td>\n",
       "    </tr>\n",
       "    <tr>\n",
       "      <th>7th-8th</th>\n",
       "      <td>0.907895</td>\n",
       "      <td>0.092105</td>\n",
       "    </tr>\n",
       "    <tr>\n",
       "      <th>9th</th>\n",
       "      <td>0.819106</td>\n",
       "      <td>0.180894</td>\n",
       "    </tr>\n",
       "    <tr>\n",
       "      <th>10th</th>\n",
       "      <td>0.851397</td>\n",
       "      <td>0.148603</td>\n",
       "    </tr>\n",
       "    <tr>\n",
       "      <th>11th</th>\n",
       "      <td>0.864602</td>\n",
       "      <td>0.135398</td>\n",
       "    </tr>\n",
       "    <tr>\n",
       "      <th>12th</th>\n",
       "      <td>0.827160</td>\n",
       "      <td>0.172840</td>\n",
       "    </tr>\n",
       "    <tr>\n",
       "      <th>HS-grad</th>\n",
       "      <td>0.883527</td>\n",
       "      <td>0.116473</td>\n",
       "    </tr>\n",
       "    <tr>\n",
       "      <th>Some-college</th>\n",
       "      <td>0.892729</td>\n",
       "      <td>0.107271</td>\n",
       "    </tr>\n",
       "    <tr>\n",
       "      <th>Assoc-voc</th>\n",
       "      <td>0.915087</td>\n",
       "      <td>0.084913</td>\n",
       "    </tr>\n",
       "    <tr>\n",
       "      <th>Assoc-acdm</th>\n",
       "      <td>0.895303</td>\n",
       "      <td>0.104697</td>\n",
       "    </tr>\n",
       "    <tr>\n",
       "      <th>Bachelors</th>\n",
       "      <td>0.934132</td>\n",
       "      <td>0.065868</td>\n",
       "    </tr>\n",
       "    <tr>\n",
       "      <th>Masters</th>\n",
       "      <td>0.946979</td>\n",
       "      <td>0.053021</td>\n",
       "    </tr>\n",
       "    <tr>\n",
       "      <th>Prof-school</th>\n",
       "      <td>0.971645</td>\n",
       "      <td>0.028355</td>\n",
       "    </tr>\n",
       "    <tr>\n",
       "      <th>Doctorate</th>\n",
       "      <td>0.971053</td>\n",
       "      <td>0.028947</td>\n",
       "    </tr>\n",
       "  </tbody>\n",
       "</table>\n",
       "</div>"
      ],
      "text/plain": [
       "              Proporção de brancos  Proporção de negros\n",
       "Preschool                 0.880952             0.119048\n",
       "1st-4th                   0.891892             0.108108\n",
       "5th-6th                   0.929766             0.070234\n",
       "7th-8th                   0.907895             0.092105\n",
       "9th                       0.819106             0.180894\n",
       "10th                      0.851397             0.148603\n",
       "11th                      0.864602             0.135398\n",
       "12th                      0.827160             0.172840\n",
       "HS-grad                   0.883527             0.116473\n",
       "Some-college              0.892729             0.107271\n",
       "Assoc-voc                 0.915087             0.084913\n",
       "Assoc-acdm                0.895303             0.104697\n",
       "Bachelors                 0.934132             0.065868\n",
       "Masters                   0.946979             0.053021\n",
       "Prof-school               0.971645             0.028355\n",
       "Doctorate                 0.971053             0.028947"
      ]
     },
     "execution_count": 87,
     "metadata": {},
     "output_type": "execute_result"
    }
   ],
   "source": [
    "# Criando listas para armazenar as proporções\n",
    "white_prop = list()\n",
    "black_prop = list()\n",
    "\n",
    "# Criando um loop para calcular as proporções\n",
    "for education in education_level:\n",
    "    total = race_aux.groupby(['education', 'race'])['race'].count()[education].sum()\n",
    "    total_white = race_aux.groupby(['education', 'race'])['race'].count()[education][' White']\n",
    "    total_black = race_aux.groupby(['education', 'race'])['race'].count()[education][' Black']\n",
    "    \n",
    "    prop_white = total_white/total\n",
    "    prop_black = total_black/total\n",
    "    \n",
    "    white_prop.append(prop_white)\n",
    "    black_prop.append(prop_black)\n",
    "    \n",
    "# Criando um dataframe para armazenar os resultados\n",
    "black_white_prop = pd.DataFrame({\n",
    "    \"Proporção de brancos\": white_prop,\n",
    "    \"Proporção de negros\": black_prop\n",
    "    },\n",
    "    index = [x[1:] for x in education_level])\n",
    "\n",
    "black_white_prop"
   ]
  },
  {
   "cell_type": "markdown",
   "id": "e8a8f495",
   "metadata": {},
   "source": [
    "Com isso, vamos responder as duas perguntas:\n",
    "\n",
    "Os dois níveis de escolaridade mais altos (\"Doctorate\" e \"Prof-school\") são aqueles onde há a menor porcentagem de mulheres. Além disso, a proporção média de mulheres é 30.18%, atingindo um mínimo de 16% no nível \"Prof-school\". Portanto, fica evidente que a proporção não se mantém quando o nível de escolaridade aumenta. \n",
    "\n",
    "Agora, falando sobre a proporção de brancos e negros, temos que os 4 níveis de escolaridade mais altos são aqueles em que há menos negros e 7 dos 9 níveis de escolaridade mais baixos são aqueles em que há mais negros. Além disso, a proporção média de negros é de 10.11%, atingindo um mínimo de 2.84% no nível \"Prof-school\". Sendo assim, novamente, fica claro que a proporção de negros diminui consideravelmente à medida em que o nível de escolaridade aumenta."
   ]
  },
  {
   "cell_type": "markdown",
   "id": "41a860b4",
   "metadata": {},
   "source": [
    "<h1 style=\"text-align:center\">4.0 - Pré-processamento dos dados</h1>"
   ]
  },
  {
   "cell_type": "code",
   "execution_count": 102,
   "id": "1f4b17ad",
   "metadata": {},
   "outputs": [],
   "source": [
    "# Dividindo em variáveis preditivas e variável alvo\n",
    "X = adults.drop(columns = \"target\", axis = 1)\n",
    "y = adults.iloc[:, -1]\n",
    "\n",
    "# Dividindo em treino e teste\n",
    "X_train, X_test, y_train, y_test = train_test_split(X, y, test_size = 0.3, random_state = 0)"
   ]
  },
  {
   "cell_type": "markdown",
   "id": "611e361f",
   "metadata": {},
   "source": [
    "<h2 style=\"text-align:center\">4.1 - Excluindo features que não iremos utilizar no primeiro ciclo</h2>"
   ]
  },
  {
   "cell_type": "code",
   "execution_count": 103,
   "id": "ccb01dd6",
   "metadata": {},
   "outputs": [],
   "source": [
    "# Colunas para excluir\n",
    "cols_excluir = [\"final_weight\", \"education\", \"native_country\"]"
   ]
  },
  {
   "cell_type": "code",
   "execution_count": 104,
   "id": "c7e10679",
   "metadata": {},
   "outputs": [],
   "source": [
    "X_train.drop(columns = cols_excluir, axis = 1, inplace = True)"
   ]
  },
  {
   "cell_type": "markdown",
   "id": "e82b0925",
   "metadata": {},
   "source": [
    "Note que apenas exclui a feature 'education' porque temos a 'education_num', que nada mais é que a 'education' de forma codificada"
   ]
  },
  {
   "cell_type": "markdown",
   "id": "a4212a2f",
   "metadata": {},
   "source": [
    "<h2 style=\"text-align:center\">4.2 - Encoding de variáveis categóricas</h2>"
   ]
  },
  {
   "cell_type": "code",
   "execution_count": 105,
   "id": "be7233d2",
   "metadata": {},
   "outputs": [
    {
     "name": "stdout",
     "output_type": "stream",
     "text": [
      "Cardinalidade de workclass: 9\n",
      "Cardinalidade de marital_status: 7\n",
      "Cardinalidade de occupation: 15\n",
      "Cardinalidade de relationship: 6\n",
      "Cardinalidade de race: 5\n",
      "Cardinalidade de sex: 2\n"
     ]
    }
   ],
   "source": [
    "# Analisando a cardinalidade de cada variável\n",
    "cat_var = X_train.select_dtypes(include = ['object']).columns\n",
    "\n",
    "for var in cat_var:\n",
    "    print(f\"Cardinalidade de {var}: {X_train[var].nunique()}\")"
   ]
  },
  {
   "cell_type": "code",
   "execution_count": 106,
   "id": "1717ab56",
   "metadata": {},
   "outputs": [],
   "source": [
    "# Para a variável 'sex', vamos utilizar o map\n",
    "X_train['sex'] = X_train['sex'].map({\" Male\": 1, \" Female\": 0})"
   ]
  },
  {
   "cell_type": "code",
   "execution_count": 107,
   "id": "004a83cd",
   "metadata": {},
   "outputs": [],
   "source": [
    "# Para o restante, vamos, primeiramente, codificar como \"rare\" todos os valores com menos de 5% de aparições\n",
    "cat_var = list(set(cat_var) - set([\"sex\"]))\n",
    "\n",
    "for var in cat_var:\n",
    "    rares = X_train[var].value_counts()[X_train[var].value_counts()/X_train[var].value_counts().sum() < 0.05].index.to_list()\n",
    "    X_train[var] = X_train[var].apply(lambda x: x if x not in rares else \" rare\")"
   ]
  },
  {
   "cell_type": "code",
   "execution_count": 108,
   "id": "3f20c3bc",
   "metadata": {},
   "outputs": [],
   "source": [
    "# Agora, vamos criar dummies\n",
    "X_train = pd.get_dummies(data = X_train, columns = list(set(cat_var) - set([\"sex\"])), drop_first = True)"
   ]
  },
  {
   "cell_type": "markdown",
   "id": "89769185",
   "metadata": {},
   "source": [
    "<h2 style=\"text-align:center\">4.3 - Criando Features</h2>"
   ]
  },
  {
   "cell_type": "code",
   "execution_count": 109,
   "id": "77901387",
   "metadata": {},
   "outputs": [],
   "source": [
    "# Vamos criar uma nova feature chamada 'capital_balance', que será a diferença entre 'capital_gain' e 'capital_loss'\n",
    "X_train['capital_balance'] = X_train['capital_gain'] - X_train['capital_loss']"
   ]
  },
  {
   "cell_type": "code",
   "execution_count": 110,
   "id": "b263c6ad",
   "metadata": {},
   "outputs": [
    {
     "data": {
      "text/html": [
       "<div>\n",
       "<style scoped>\n",
       "    .dataframe tbody tr th:only-of-type {\n",
       "        vertical-align: middle;\n",
       "    }\n",
       "\n",
       "    .dataframe tbody tr th {\n",
       "        vertical-align: top;\n",
       "    }\n",
       "\n",
       "    .dataframe thead th {\n",
       "        text-align: right;\n",
       "    }\n",
       "</style>\n",
       "<table border=\"1\" class=\"dataframe\">\n",
       "  <thead>\n",
       "    <tr style=\"text-align: right;\">\n",
       "      <th></th>\n",
       "      <th>capital_gain</th>\n",
       "      <th>capital_loss</th>\n",
       "      <th>capital_balance</th>\n",
       "    </tr>\n",
       "  </thead>\n",
       "  <tbody>\n",
       "    <tr>\n",
       "      <th>13011</th>\n",
       "      <td>0</td>\n",
       "      <td>0</td>\n",
       "      <td>0</td>\n",
       "    </tr>\n",
       "    <tr>\n",
       "      <th>24494</th>\n",
       "      <td>0</td>\n",
       "      <td>0</td>\n",
       "      <td>0</td>\n",
       "    </tr>\n",
       "    <tr>\n",
       "      <th>16923</th>\n",
       "      <td>7298</td>\n",
       "      <td>0</td>\n",
       "      <td>7298</td>\n",
       "    </tr>\n",
       "    <tr>\n",
       "      <th>25335</th>\n",
       "      <td>0</td>\n",
       "      <td>1977</td>\n",
       "      <td>-1977</td>\n",
       "    </tr>\n",
       "    <tr>\n",
       "      <th>12363</th>\n",
       "      <td>0</td>\n",
       "      <td>0</td>\n",
       "      <td>0</td>\n",
       "    </tr>\n",
       "  </tbody>\n",
       "</table>\n",
       "</div>"
      ],
      "text/plain": [
       "       capital_gain  capital_loss  capital_balance\n",
       "13011             0             0                0\n",
       "24494             0             0                0\n",
       "16923          7298             0             7298\n",
       "25335             0          1977            -1977\n",
       "12363             0             0                0"
      ]
     },
     "execution_count": 110,
     "metadata": {},
     "output_type": "execute_result"
    }
   ],
   "source": [
    "# Visualizando a nova variável\n",
    "X_train[['capital_gain', 'capital_loss', 'capital_balance']].head()"
   ]
  },
  {
   "cell_type": "code",
   "execution_count": 111,
   "id": "2326e45d",
   "metadata": {},
   "outputs": [],
   "source": [
    "# Com isso, vamos manter apenas a feature 'capital_balance'\n",
    "X_train.drop(columns = [\"capital_gain\", \"capital_loss\"], axis = 1, inplace = True)"
   ]
  },
  {
   "cell_type": "markdown",
   "id": "cc1e2033",
   "metadata": {},
   "source": [
    "<h2 style=\"text-align:center\">4.4 - Escalonando os dados</h2>"
   ]
  },
  {
   "cell_type": "code",
   "execution_count": 112,
   "id": "7590d2eb",
   "metadata": {},
   "outputs": [],
   "source": [
    "# Escalonando com o StandardScaler\n",
    "scaler = StandardScaler()\n",
    "\n",
    "X_train = scaler.fit_transform(X_train)"
   ]
  },
  {
   "cell_type": "markdown",
   "id": "4e5d2ef8",
   "metadata": {},
   "source": [
    "<h1 style=\"text-align:center\">5.0 - Validação cruzada</h1>"
   ]
  },
  {
   "cell_type": "code",
   "execution_count": 189,
   "id": "08fa3ab1",
   "metadata": {},
   "outputs": [],
   "source": [
    "# Dividindo em variáveis preditivas e variável alvo\n",
    "X = adults.drop(columns = \"target\", axis = 1)\n",
    "y = adults.iloc[:, -1]\n",
    "\n",
    "# Dividindo em treino e teste\n",
    "X_train, X_test, y_train, y_test = train_test_split(X, y, test_size = 0.3, random_state = 0, stratify = y)"
   ]
  },
  {
   "cell_type": "code",
   "execution_count": 154,
   "id": "2015e39c",
   "metadata": {},
   "outputs": [],
   "source": [
    "# Folds\n",
    "folds = StratifiedKFold(n_splits = 5, shuffle = True, random_state = 0)"
   ]
  },
  {
   "cell_type": "code",
   "execution_count": 165,
   "id": "f29d4051",
   "metadata": {},
   "outputs": [],
   "source": [
    "# Modelo 1 - Random Forest\n",
    "rf = RandomForestClassifier(n_estimators = 1000, class_weight = {0: 3.2, 1: 1}, n_jobs = -1, random_state = 0)"
   ]
  },
  {
   "cell_type": "code",
   "execution_count": 166,
   "id": "d8a39623",
   "metadata": {
    "scrolled": false
   },
   "outputs": [
    {
     "name": "stdout",
     "output_type": "stream",
     "text": [
      "-=-=-= Fold 1 -=-=-=\n",
      "-=-=-=-=-=-=-=-=-=-=-=\n",
      "\n",
      "Acurácia: 0.8472008781558726\n",
      "F1-Score: 0.6627906976744187\n",
      "\n",
      "-=-=-= Fold 2 -=-=-=\n",
      "-=-=-=-=-=-=-=-=-=-=-=\n",
      "\n",
      "Acurácia: 0.8419319429198683\n",
      "F1-Score: 0.6432111000991081\n",
      "\n",
      "-=-=-= Fold 3 -=-=-=\n",
      "-=-=-=-=-=-=-=-=-=-=-=\n",
      "\n",
      "Acurácia: 0.842371020856202\n",
      "F1-Score: 0.6434955312810328\n",
      "\n",
      "-=-=-= Fold 4 -=-=-=\n",
      "-=-=-=-=-=-=-=-=-=-=-=\n",
      "\n",
      "Acurácia: 0.8412733260153678\n",
      "F1-Score: 0.6390414378432352\n",
      "\n",
      "-=-=-= Fold 5 -=-=-=\n",
      "-=-=-=-=-=-=-=-=-=-=-=\n",
      "\n",
      "Acurácia: 0.837980241492865\n",
      "F1-Score: 0.6335650446871897\n",
      "\n",
      "-=-=-=-=-=-=-=-=-=\n",
      "Resultado Médio Final\n",
      "Acurácia: 0.8421514818880352\n",
      "Precisão: 0.7044704262278387\n",
      "Revocação: 0.593953703842073\n",
      "F1-Score: 0.644420762316997\n",
      "ROC AUC: 0.7574407885142607\n"
     ]
    }
   ],
   "source": [
    "# Validação Cruzada para a Random Forest\n",
    "validacao_cruzada(X_train, y_train, rf)"
   ]
  },
  {
   "cell_type": "code",
   "execution_count": 167,
   "id": "bd1c63f6",
   "metadata": {},
   "outputs": [],
   "source": [
    "# Modelo 2 - XGBoost Classifier\n",
    "xgboost = GradientBoostingClassifier(n_estimators = 1000, random_state = 0)"
   ]
  },
  {
   "cell_type": "code",
   "execution_count": 168,
   "id": "7b692c17",
   "metadata": {},
   "outputs": [
    {
     "name": "stdout",
     "output_type": "stream",
     "text": [
      "-=-=-= Fold 1 -=-=-=\n",
      "-=-=-=-=-=-=-=-=-=-=-=\n",
      "\n",
      "Acurácia: 0.868715697036224\n",
      "F1-Score: 0.7065750736015702\n",
      "\n",
      "-=-=-= Fold 2 -=-=-=\n",
      "-=-=-=-=-=-=-=-=-=-=-=\n",
      "\n",
      "Acurácia: 0.8630076838638858\n",
      "F1-Score: 0.6944172380019589\n",
      "\n",
      "-=-=-= Fold 3 -=-=-=\n",
      "-=-=-=-=-=-=-=-=-=-=-=\n",
      "\n",
      "Acurácia: 0.868715697036224\n",
      "F1-Score: 0.7027833001988071\n",
      "\n",
      "-=-=-= Fold 4 -=-=-=\n",
      "-=-=-=-=-=-=-=-=-=-=-=\n",
      "\n",
      "Acurácia: 0.8709110867178924\n",
      "F1-Score: 0.7042253521126761\n",
      "\n",
      "-=-=-= Fold 5 -=-=-=\n",
      "-=-=-=-=-=-=-=-=-=-=-=\n",
      "\n",
      "Acurácia: 0.8660812294182217\n",
      "F1-Score: 0.6916076845298282\n",
      "\n",
      "-=-=-=-=-=-=-=-=-=\n",
      "Resultado Médio Final\n",
      "Acurácia: 0.8674862788144896\n",
      "Precisão: 0.7703750382995704\n",
      "Revocação: 0.6415204241406851\n",
      "F1-Score: 0.6999217296889682\n",
      "ROC AUC: 0.79036369218872\n"
     ]
    }
   ],
   "source": [
    "# Validação Cruzada para o Gradient Boosting\n",
    "validacao_cruzada(X_train, y_train, xgboost)"
   ]
  },
  {
   "cell_type": "code",
   "execution_count": 169,
   "id": "d39d5b48",
   "metadata": {},
   "outputs": [],
   "source": [
    "# Modelo 3 - Regressão Logística\n",
    "rl = LogisticRegression(class_weight = {0: 3.2, 1: 1}, n_jobs = -1, random_state = 0)"
   ]
  },
  {
   "cell_type": "code",
   "execution_count": 170,
   "id": "d2b3fb05",
   "metadata": {},
   "outputs": [
    {
     "name": "stdout",
     "output_type": "stream",
     "text": [
      "-=-=-= Fold 1 -=-=-=\n",
      "-=-=-=-=-=-=-=-=-=-=-=\n",
      "\n",
      "Acurácia: 0.8162458836443469\n",
      "F1-Score: 0.4294478527607362\n",
      "\n",
      "-=-=-= Fold 2 -=-=-=\n",
      "-=-=-=-=-=-=-=-=-=-=-=\n",
      "\n",
      "Acurácia: 0.8125137211855105\n",
      "F1-Score: 0.396039603960396\n",
      "\n",
      "-=-=-= Fold 3 -=-=-=\n",
      "-=-=-=-=-=-=-=-=-=-=-=\n",
      "\n",
      "Acurácia: 0.8133918770581778\n",
      "F1-Score: 0.4064245810055866\n",
      "\n",
      "-=-=-= Fold 4 -=-=-=\n",
      "-=-=-=-=-=-=-=-=-=-=-=\n",
      "\n",
      "Acurácia: 0.8100987925356751\n",
      "F1-Score: 0.38869257950530034\n",
      "\n",
      "-=-=-= Fold 5 -=-=-=\n",
      "-=-=-=-=-=-=-=-=-=-=-=\n",
      "\n",
      "Acurácia: 0.8140504939626784\n",
      "F1-Score: 0.40141342756183745\n",
      "\n",
      "-=-=-=-=-=-=-=-=-=\n",
      "Resultado Médio Final\n",
      "Acurácia: 0.8132601536772779\n",
      "Precisão: 0.873339152986029\n",
      "Revocação: 0.26335294303224727\n",
      "F1-Score: 0.40440360895877125\n",
      "ROC AUC: 0.6255740511832328\n"
     ]
    }
   ],
   "source": [
    "# Validação Cruzada para a Regressão Logística\n",
    "validacao_cruzada(X_train, y_train, rl)"
   ]
  },
  {
   "cell_type": "code",
   "execution_count": 171,
   "id": "99cd61fd",
   "metadata": {},
   "outputs": [],
   "source": [
    "# Modelo 4 - SVC\n",
    "svc = SVC(class_weight = {0: 3.2, 1: 1}, random_state = 0)"
   ]
  },
  {
   "cell_type": "code",
   "execution_count": 172,
   "id": "79969f0f",
   "metadata": {},
   "outputs": [
    {
     "name": "stdout",
     "output_type": "stream",
     "text": [
      "-=-=-= Fold 1 -=-=-=\n",
      "-=-=-=-=-=-=-=-=-=-=-=\n",
      "\n",
      "Acurácia: 0.8100987925356751\n",
      "F1-Score: 0.3843416370106761\n",
      "\n",
      "-=-=-= Fold 2 -=-=-=\n",
      "-=-=-=-=-=-=-=-=-=-=-=\n",
      "\n",
      "Acurácia: 0.8030735455543359\n",
      "F1-Score: 0.33702882483370283\n",
      "\n",
      "-=-=-= Fold 3 -=-=-=\n",
      "-=-=-=-=-=-=-=-=-=-=-=\n",
      "\n",
      "Acurácia: 0.8079034028540066\n",
      "F1-Score: 0.3654822335025381\n",
      "\n",
      "-=-=-= Fold 4 -=-=-=\n",
      "-=-=-=-=-=-=-=-=-=-=-=\n",
      "\n",
      "Acurácia: 0.8105378704720088\n",
      "F1-Score: 0.3804737975592247\n",
      "\n",
      "-=-=-= Fold 5 -=-=-=\n",
      "-=-=-=-=-=-=-=-=-=-=-=\n",
      "\n",
      "Acurácia: 0.8070252469813392\n",
      "F1-Score: 0.35224760501105384\n",
      "\n",
      "-=-=-=-=-=-=-=-=-=\n",
      "Resultado Médio Final\n",
      "Acurácia: 0.8077277716794731\n",
      "Precisão: 0.8963900810851315\n",
      "Revocação: 0.22853983292735774\n",
      "F1-Score: 0.36391481958343913\n",
      "ROC AUC: 0.6100474045085724\n"
     ]
    }
   ],
   "source": [
    "# Validação Cruzada para a SVC\n",
    "validacao_cruzada(X_train, y_train, svc)"
   ]
  },
  {
   "cell_type": "code",
   "execution_count": 175,
   "id": "fe391f04",
   "metadata": {},
   "outputs": [],
   "source": [
    "# Modelo 5 - XGBoost Classifier\n",
    "xgb = XGBClassifier(scale_pos_weight = 3.2, n_jobs = -1, n_estimators = 1000, random_state = 0)"
   ]
  },
  {
   "cell_type": "code",
   "execution_count": 176,
   "id": "8feaa45a",
   "metadata": {},
   "outputs": [
    {
     "name": "stdout",
     "output_type": "stream",
     "text": [
      "-=-=-= Fold 1 -=-=-=\n",
      "-=-=-=-=-=-=-=-=-=-=-=\n",
      "\n",
      "Acurácia: 0.8362239297475302\n",
      "F1-Score: 0.6889074228523769\n",
      "\n",
      "-=-=-= Fold 2 -=-=-=\n",
      "-=-=-=-=-=-=-=-=-=-=-=\n",
      "\n",
      "Acurácia: 0.823271130625686\n",
      "F1-Score: 0.66967583093968\n",
      "\n",
      "-=-=-= Fold 3 -=-=-=\n",
      "-=-=-=-=-=-=-=-=-=-=-=\n",
      "\n",
      "Acurácia: 0.8355653128430296\n",
      "F1-Score: 0.6822231650403054\n",
      "\n",
      "-=-=-= Fold 4 -=-=-=\n",
      "-=-=-=-=-=-=-=-=-=-=-=\n",
      "\n",
      "Acurácia: 0.8384193194291987\n",
      "F1-Score: 0.6857386848847139\n",
      "\n",
      "-=-=-= Fold 5 -=-=-=\n",
      "-=-=-=-=-=-=-=-=-=-=-=\n",
      "\n",
      "Acurácia: 0.8230515916575192\n",
      "F1-Score: 0.6691297208538588\n",
      "\n",
      "-=-=-=-=-=-=-=-=-=\n",
      "Resultado Médio Final\n",
      "Acurácia: 0.8313062568605927\n",
      "Precisão: 0.6273126349243532\n",
      "Revocação: 0.7406611507124081\n",
      "F1-Score: 0.679134964914187\n",
      "ROC AUC: 0.8003687808363047\n"
     ]
    }
   ],
   "source": [
    "# Validação Cruzada para o XGBoost Classifier\n",
    "validacao_cruzada(X_train, y_train, xgb)"
   ]
  },
  {
   "cell_type": "code",
   "execution_count": 190,
   "id": "50a3ffe7",
   "metadata": {},
   "outputs": [],
   "source": [
    "# Métricas\n",
    "acuracias = [0.8421514818880352, 0.8674862788144896, 0.8132601536772779, 0.8077277716794731, 0.8313062568605927]\n",
    "f1score = [0.644420762316997, 0.6999217296889682, 0.40440360895877125, 0.36391481958343913, 0.679134964914187]\n",
    "rocauc = [0.7574407885142607, 0.79036369218872, 0.6255740511832328, 0.6100474045085724, 0.8003687808363047]\n",
    "nomes = [\"Random Forest\", \"Gradient Boosting\", \"Regressão Logística\", \"SVC\", \"XBG Classifier\"]"
   ]
  },
  {
   "cell_type": "code",
   "execution_count": 201,
   "id": "cb1efe3f",
   "metadata": {},
   "outputs": [
    {
     "data": {
      "image/png": "[encoded data removed]",
      "text/plain": [
       "<Figure size 1152x1152 with 3 Axes>"
      ]
     },
     "metadata": {},
     "output_type": "display_data"
    }
   ],
   "source": [
    "# Resumo (gráfico)\n",
    "fig, axs = plt.subplots(3, 1, figsize = (16, 16))\n",
    "\n",
    "sns.barplot(x = nomes, y = acuracias, ax = axs[0])\n",
    "axs[0].set_ylabel(\"Acurácia\")\n",
    "axs[0].set_title(\"Desempenho classificadores\")\n",
    "\n",
    "sns.barplot(x = nomes, y = f1score, ax = axs[1])\n",
    "axs[1].set_ylabel(\"F1-Score\")\n",
    "\n",
    "sns.barplot(x = nomes, y = rocauc, ax = axs[2])\n",
    "axs[2].set_ylabel(\"ROC AUC\")\n",
    "\n",
    "plt.show()"
   ]
  },
  {
   "cell_type": "markdown",
   "id": "3557bbc0",
   "metadata": {},
   "source": [
    "<h1 style=\"text-align:center\">6.0 - Verificação do desempenho no conjunto de testes</h1>"
   ]
  },
  {
   "cell_type": "code",
   "execution_count": 202,
   "id": "0b0310fd",
   "metadata": {},
   "outputs": [],
   "source": [
    "# Dividindo em variáveis preditivas e variável alvo\n",
    "X = adults.drop(columns = \"target\", axis = 1)\n",
    "y = adults.iloc[:, -1]\n",
    "\n",
    "# Dividindo em treino e teste\n",
    "X_train, X_test, y_train, y_test = train_test_split(X, y, test_size = 0.3, random_state = 0, stratify = y)"
   ]
  },
  {
   "cell_type": "code",
   "execution_count": 203,
   "id": "89761cee",
   "metadata": {},
   "outputs": [],
   "source": [
    "# Pré-processamento\n",
    "X_train, X_test = preprocess(X_train, X_test)"
   ]
  },
  {
   "cell_type": "code",
   "execution_count": 204,
   "id": "3f2d70f3",
   "metadata": {},
   "outputs": [
    {
     "data": {
      "text/plain": [
       "GradientBoostingClassifier(n_estimators=1000, random_state=0)"
      ]
     },
     "execution_count": 204,
     "metadata": {},
     "output_type": "execute_result"
    }
   ],
   "source": [
    "# Treinando o modelo\n",
    "xgboost = GradientBoostingClassifier(n_estimators = 1000, random_state = 0)\n",
    "\n",
    "xgboost.fit(X_train, y_train)"
   ]
  },
  {
   "cell_type": "code",
   "execution_count": 205,
   "id": "4a074476",
   "metadata": {},
   "outputs": [],
   "source": [
    "# Prevendo no conjunto de testes\n",
    "y_pred = xgboost.predict(X_test)"
   ]
  },
  {
   "cell_type": "code",
   "execution_count": 208,
   "id": "2aacfd57",
   "metadata": {},
   "outputs": [
    {
     "name": "stdout",
     "output_type": "stream",
     "text": [
      "Acurácia: 0.8690842040565457\n",
      "Precisão: 0.7753846153846153\n",
      "Revocação: 0.6428571428571429\n",
      "F1-Score: 0.702928870292887\n",
      "ROC AUC: 0.791873915558126\n"
     ]
    }
   ],
   "source": [
    "# Resultado\n",
    "acuracia, precision, recall, f1score, rocaucscore = metricas(y_test, y_pred)\n",
    "\n",
    "print(f\"Acurácia: {acuracia}\\nPrecisão: {precision}\\nRevocação: {recall}\\nF1-Score: {f1score}\\nROC AUC: {rocaucscore}\")"
   ]
  },
  {
   "cell_type": "markdown",
   "id": "882e5719",
   "metadata": {},
   "source": [
    "<h1 style=\"text-align:center\">7.0 - Conclusão</h1>"
   ]
  },
  {
   "cell_type": "markdown",
   "id": "1ae95b0b",
   "metadata": {},
   "source": [
    "Como vimos, nosso melhor modelo alcançou 86.91% de acurácia, 70.29% de F1-Score e 79.19% de ROC AUC.\n",
    "\n",
    "Para um modelo sem ensemble, tunagem de parâmetros e qualquer outro tipo de otimização, é um bom resultado para o primeiro ciclo do CRISP-DM."
   ]
  }
 ],
 "metadata": {
  "kernelspec": {
   "display_name": "Python 3 (ipykernel)",
   "language": "python",
   "name": "python3"
  },
  "language_info": {
   "codemirror_mode": {
    "name": "ipython",
    "version": 3
   },
   "file_extension": ".py",
   "mimetype": "text/x-python",
   "name": "python",
   "nbconvert_exporter": "python",
   "pygments_lexer": "ipython3",
   "version": "3.9.12"
  }
 },
 "nbformat": 4,
 "nbformat_minor": 5
}
